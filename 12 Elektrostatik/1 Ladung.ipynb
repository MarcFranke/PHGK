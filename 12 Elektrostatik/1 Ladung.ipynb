{
 "cells": [
  {
   "cell_type": "markdown",
   "id": "f60180cd-392c-48b9-85f2-91e0ce93b701",
   "metadata": {},
   "source": [
    "# Kapitel 1: elektrische Ladung"
   ]
  },
  {
   "cell_type": "markdown",
   "id": "9637cb8e-deba-409f-9565-44c6f44021bd",
   "metadata": {
    "editable": true,
    "slideshow": {
     "slide_type": ""
    },
    "tags": []
   },
   "source": [
    "```{figure} https://s3-us-west-2.amazonaws.com/courses-images-archive-read-only/wp-content/uploads/sites/222/2014/12/20105515/Figure_19_00_01a_D.jpg\n",
    ":label: im0\n",
    ":alt: Kind mit abstehenden Haaren\n",
    ":width: 1000px\n",
    ":align: center\n",
    "\n",
    "```"
   ]
  },
  {
   "cell_type": "markdown",
   "id": "6c8a08d7-c2c5-41e4-a141-64eee43b0af6",
   "metadata": {
    "editable": true,
    "slideshow": {
     "slide_type": ""
    },
    "tags": []
   },
   "source": [
    ":::{important} In diesem Kapitel lernst du\n",
    "- die Einheit der Ladung\n",
    "- den Zusammenhang zwischen Ladung und elektrischer Stromstärke\n",
    ":::"
   ]
  },
  {
   "cell_type": "markdown",
   "id": "f36b53fd-3606-41a0-8087-f64b863a9a37",
   "metadata": {},
   "source": [
    ":::{attention} Aufgabe\n",
    "Beschreibe, was oben im Bild passiert. Folgende Begriffe könnten nützlich sein:\n",
    "<p><code>Ladung</code>, <code>statisch aufgeladen</code>, <code>negative Ladung</code>, <code>positive Ladung</code>, <code>elektrostatische Kraft</code>, <code>Elektronenmangel</code>, <code>Elektronen&uuml;berschuss</code>, <code>bewegliche Ladungstr&auml;ger (Elektronen)</code>, <code>unbewegliche Ladungstr&auml;ger (Atomr&uuml;mpfe)<br /></code></p>\n",
    ":::"
   ]
  },
  {
   "cell_type": "raw",
   "id": "423c9b92-cd23-43c3-8c41-fd25451dcc5d",
   "metadata": {},
   "source": [
    "Deine Antwort hier tippen... Oder unten handschriftlich schreiben und zum speichern auf den blauen Button drücken!"
   ]
  },
  {
   "cell_type": "code",
   "execution_count": 27,
   "id": "0250a4df-3df7-48b1-9283-5727164d4d80",
   "metadata": {
    "collapsed": true,
    "jupyter": {
     "outputs_hidden": true,
     "source_hidden": true
    },
    "tags": []
   },
   "outputs": [
    {
     "data": {
      "application/vnd.jupyter.widget-view+json": {
       "model_id": "d66df66dd3624e0b8a57a406c8482fbf",
       "version_major": 2,
       "version_minor": 1
      },
      "text/plain": [
       "TldrawMakeStaticToMarkdown(height=600, width=1000)"
      ]
     },
     "execution_count": 27,
     "metadata": {},
     "output_type": "execute_result"
    }
   ],
   "source": [
    "from tldraw import *\n",
    "\n",
    "TldrawMakeStaticToMarkdown(width=1000, height=600)"
   ]
  },
  {
   "cell_type": "markdown",
   "id": "783f6674-100e-4232-9f23-d41dd3bfc39f",
   "metadata": {},
   "source": [
    "### Was ist statische Aufladung?"
   ]
  },
  {
   "cell_type": "markdown",
   "id": "52950f41-0210-45bc-9c9e-3f8f84035e44",
   "metadata": {},
   "source": [
    "\n",
    "```{figure} https://upload.wikimedia.org/wikipedia/commons/9/9b/Attractive-and-repulsive-electric-force-demonstrations.jpg\n",
    ":label: k1im1\n",
    ":alt: Sunset at the beach\n",
    ":width: 500px\n",
    ":align: left\n",
    "\n",
    "Anziehende (links) und abstoßende elektrische Kräfte (rechts)\n",
    "```"
   ]
  },
  {
   "cell_type": "markdown",
   "id": "6540633a-d15a-45cc-bdbf-cd03954251b4",
   "metadata": {},
   "source": [
    "Experimente wie in [Bild 1](#k1im1) zeigen, dass es anziehende und abstoßende elektrische Kräfte gibt. Daraus kann auf die Existenz von zwei unterschiedlichen Arten von Ladungen geschlossen werden. <wiki:Benjamin_Franklin> hat die Bezeichnungen Positiv und Negativ zur Unterscheidung beider Arten von Ladungen eingeführt. Dabei gilt:\n",
    "\n",
    ":::{hint}Hinweis\n",
    "- Gleichnamige Ladungen stoßen einander ab (+ und + sowie - und -)\n",
    "- Ungleichnamige Ladungen ziehen einander an (+ und -)\n",
    ":::\n",
    "\n",
    "Die Zuordnung wurde dabei willkürlich vorgenommen und hat keine physikalische Bedeutung. Positive und negative Ladung sind nur Bezeichnungen für gegensätzliche Eigenschaften und bedeuten nicht ein Zuwenig oder Zuviel von etwas."
   ]
  },
  {
   "cell_type": "markdown",
   "id": "5085a3bf-769e-4865-ab5e-ad423cd215f7",
   "metadata": {},
   "source": [
    "### Wo kommt Ladung her?"
   ]
  },
  {
   "cell_type": "markdown",
   "id": "f289ed45-a6d8-4e64-b1b2-90e8e7d8724e",
   "metadata": {},
   "source": [
    "Durch den von <wiki:Robert_Millikan> erdachten und von ihm durchgeführten Öltröpfchen-Versuch konnte um 1900 gezeigt werden, dass jede in der Natur vorkommende Ladungsmenge {abbr}`gequantelt (es gibt eine kleinste Menge davon)` ist. Diese kleinste Ladung wird Elementarladung (engl. elementary charge) genannt und ist eine Naturkonstante. Ihre Größe ist:\n",
    "\n",
    "```{math}\n",
    ":label: e-charge\n",
    "e = 1,6 * 10^{-19}\\text{C}\n",
    "```\n",
    ":::{hint}Ladung: Einheit und Formelzeichen\n",
    "(Einheit-Ladung)=\n",
    "Die Einheit der Ladung ist $\\text{C}$ für Coulomb, benannt nach <wiki:Charles_Augustin_de_Coulomb>. \n",
    "\n",
    "Aussprache: \n",
    "<audio controls id=\"coulomb-audio\" src=\"https://physikbuch.schule/media/Pronunciation_Charles_Augustin_de_Coulomb.ogg\"></audio>\n",
    "\n",
    "(Q-ist-Ladung)=\n",
    "Das Formelzeichen der Ladung ist $Q$. Es leitet sich von dem lateinischen Wort {abbr}`Quantum (eine bestimmte Anzahl von etwas)` ab.\n",
    ":::\n",
    "\n",
    ":::{danger}Einheit und Formelzeichen\n",
    "Man schreibt in Physik oft \"Die Einheit der Ladung ist Coulomb\" kurz als $[Q] = \\text{C}$. \n",
    "\n",
    "(Eckige-Klammern)=\n",
    "Die eckigen Klammern bedeuten soviel wie \"Die Einheit von\".\n",
    ":::\n",
    "\n",
    "Später fanden Physiker heraus, dass alle Materie aus Atomen besteht, die wiederum aus Elektronen, Protonen und Neutronen bestehen. Das Proton wurde 1919 von <wiki:Ernest_Rutherford>, und das Neutron 1932 von <wiki:James_Chadwick> entdeckt. \n",
    "\n",
    "Dabei stellte sich heraus, dass Protonen und Elektronen genau diese kleinste Ladung haben (Ansonsten hätten Physiker auch ein Problem gehabt, denn dann hätte es ja etwas noch kleineres geben müssen). Das Proton hat eine Ladung von [$Q$](#Q-ist-Ladung)$_{Proton} = $ [$e$](#e-charge), das Elektron hat eine Ladung [$Q$](#Q-ist-Ladung)$_{Elektron} = $ [$-e$](#e-charge)\n",
    "\n",
    "\n",
    "```{figure} https://physikbuch.schule/media/particles-of-an-atom.svg\n",
    ":label: k1im2\n",
    ":alt: Elementarteilchen Proton, Neutron, Elektron\n",
    ":width: 500px\n",
    ":align: left\n",
    "\n",
    "Massen- und Ladungsvergleich der {abbr}`Elementarteilchen (= Elektron, Proton und Neutron)`\n",
    "```\n",
    "\n",
    "Normale Atome besitzen gleich viele Elektronen in der Hülle wie Protonen im Kern. Die Gesamtladung eines Atoms ist daher null – es ist nach außen elektrisch neutral.\n",
    "\n",
    "Obwohl Proton und Elektron – bis auf das Vorzeichen – identische Ladungen besitzen, sind sie sonst sehr unterschiedliche Teilchen. Zum Beispiel sind Neutron und Proton rund 2000 Mal massereicher als das Elektron ([Bild 2](#k1im2)).\n",
    "\n",
    ":::{error}häufiges Missverständnis\n",
    "Beim Vorgang des Reibens zweier Stoffe werden keine neuen Ladungen erzeugt. Es werden lediglich schon vorhandene Ladungsträger von einem Körper auf einen anderen Körper übertragen.\n",
    ":::\n",
    "\n"
   ]
  },
  {
   "cell_type": "code",
   "execution_count": 5,
   "id": "78954228-1b9b-4ab7-8174-0f712678398f",
   "metadata": {
    "jupyter": {
     "source_hidden": true
    },
    "tags": []
   },
   "outputs": [
    {
     "data": {
      "text/html": [
       "\n",
       "        <iframe\n",
       "            width=\"800\"\n",
       "            height=\"600\"\n",
       "            src=\"https://phet.colorado.edu/sims/html/balloons-and-static-electricity/latest/balloons-and-static-electricity_all.html?locale=de\"\n",
       "            frameborder=\"0\"\n",
       "            allowfullscreen\n",
       "            \n",
       "        ></iframe>\n",
       "        "
      ],
      "text/plain": [
       "<IPython.lib.display.IFrame at 0x7fddf8a3cf10>"
      ]
     },
     "execution_count": 5,
     "metadata": {},
     "output_type": "execute_result"
    }
   ],
   "source": [
    "#| label: phet-ballon\n",
    "from IPython.display import IFrame\n",
    "\n",
    "IFrame(\"https://phet.colorado.edu/sims/html/balloons-and-static-electricity/latest/balloons-and-static-electricity_all.html?locale=de\", width=800, height=600)"
   ]
  },
  {
   "cell_type": "markdown",
   "id": "b4eed382-c6f8-41fd-b619-9829a56a3889",
   "metadata": {},
   "source": [
    "Von einigen Stoffen – wie Luftballons oder menschlichen Haaren – weißt du aus Erfahrung, dass sie sich gut für das Trennen von Ladungen durch Reibung eignen. Aber sind nach dem Reiben die Haare oder der Luftballon negativ geladen? Und welche anderen Stoffe eignen sich dazu?\n",
    "\n",
    "Auskunft darüber gibt die sogenannte [berührungselektrische Spannungsreihe](#k1im3). In ihr sind Stoffe nach ihrer {abbr}`Elektronen-Affinität (wie groß das Bestreben ist, Elektronen aufzunehmen)` gereiht ([Bild 3](#k1im3)).\n"
   ]
  },
  {
   "cell_type": "markdown",
   "id": "a876a90b-7a61-49f3-837f-6b0a416ce315",
   "metadata": {},
   "source": [
    "```{figure} https://physikbuch.schule/media/triboelectric-series.svg\n",
    ":label: k1im3\n",
    ":alt: Berührungselektrische Spannungsreihe\n",
    ":width: 500px\n",
    ":align: left\n",
    "\n",
    "Berührungselektrische Spannungsreihe\n",
    "```"
   ]
  },
  {
   "cell_type": "markdown",
   "id": "cda2ba1b-8855-4dcc-8d00-9f42a3a620f4",
   "metadata": {},
   "source": [
    "Anhand der Spannungsreihe kannst du ablesen, dass beim Reiben aneinander, dass dein Haar positiv und der Luftballon negativ geladen werden:\n",
    "\n",
    "```{figure} https://physikbuch.schule/media/electric-force-demonstrations-with-charges.jpg\n",
    ":label: k1im4\n",
    ":alt: Berührungselektrische Spannungsreihe\n",
    ":width: 500px\n",
    ":align: left\n",
    "\n",
    "[Experiment aus Bild 1](#k1im1) mit korrekter Ladungsbezeichnung\n",
    "```"
   ]
  },
  {
   "cell_type": "markdown",
   "id": "89e3023f-a1b9-46d6-9797-cd91e6533b82",
   "metadata": {},
   "source": [
    "### Influenz und Ladungstrennung"
   ]
  },
  {
   "cell_type": "markdown",
   "id": "f2fed408-22a4-4d8b-bc84-f151123b2add",
   "metadata": {},
   "source": [
    ":::{attention} Aufgabe\n",
    "Erkläre, warum der geladene Ballon in der Simulation oben an der Wand kleben bleibt.\n",
    ":::"
   ]
  },
  {
   "cell_type": "raw",
   "id": "48aee42b-a88d-4f62-bfe4-82f3f2a2d4b4",
   "metadata": {},
   "source": [
    "Deine Antwort hier tippen... "
   ]
  },
  {
   "cell_type": "markdown",
   "id": "0e8fb6b6-3d67-4fec-be4e-d9a23cd8155b",
   "metadata": {},
   "source": [
    ":::{hint}Hinweis (erst nach Bearbeitung der Aufgabe anschauen)\n",
    ":class: dropdown\n",
    "Bringst du einen geladenen Körper, z.B. einen an einem Fell geriebenen Plastikstab, in die Nähe des neutralen Körpers, so übt die Ladung auf dem Plastikstab auf die gleichmäßig verteilten Ladungen im Körper Anziehungs- und Abstoßungskräfte aus. \n",
    "\n",
    "(Influenz)=\n",
    "Die Anziehungs- und Abstoßungskräfte des geladenen Körpers beeinflussen die Verteilung der Ladungen im neutralen Körper. Dieses Phänomen wird **Influenz** genannt.\n",
    ":::"
   ]
  },
  {
   "cell_type": "markdown",
   "id": "90a180cd-e6f9-472d-bd45-133f2c14edd0",
   "metadata": {},
   "source": [
    "### Ladungsmessung"
   ]
  },
  {
   "cell_type": "code",
   "execution_count": 14,
   "id": "e56c3bef-deaf-432c-a59c-469d2b897ce0",
   "metadata": {
    "jupyter": {
     "source_hidden": true
    },
    "tags": []
   },
   "outputs": [
    {
     "data": {
      "text/html": [
       "\n",
       "        <iframe\n",
       "            width=\"800\"\n",
       "            height=\"400\"\n",
       "            src=\"https://www.youtube.com/embed/JYYekk2u1ho\"\n",
       "            frameborder=\"0\"\n",
       "            allowfullscreen\n",
       "            \n",
       "        ></iframe>\n",
       "        "
      ],
      "text/plain": [
       "<IPython.lib.display.IFrame at 0x7fddf8a35490>"
      ]
     },
     "execution_count": 14,
     "metadata": {},
     "output_type": "execute_result"
    }
   ],
   "source": [
    "from IPython.display import IFrame\n",
    "\n",
    "IFrame(\"https://www.youtube.com/embed/JYYekk2u1ho\", width=800, height=400)"
   ]
  },
  {
   "cell_type": "markdown",
   "id": "2d1c078b-8f24-478f-a0f9-6ee5740217ea",
   "metadata": {
    "tags": []
   },
   "source": [
    ":::{attention} Aufgabe\n",
    "Erkläre, warum das Elektroskop ausschlägt, wenn der Stab\n",
    "1. in die Nähe des Elektroskops gebracht wird\n",
    "2. das Elektroskop berührt\n",
    "\n",
    "Nutze den Begriff [Influenz](#Influenz).\n",
    ":::"
   ]
  },
  {
   "cell_type": "raw",
   "id": "291a10b2-2cce-4162-8521-793816f552ed",
   "metadata": {},
   "source": [
    "Deine Antwort hier tippen... "
   ]
  },
  {
   "cell_type": "code",
   "execution_count": 23,
   "id": "9498c5ad-4f37-4386-a29e-d03ec442e270",
   "metadata": {
    "jupyter": {
     "source_hidden": true
    },
    "tags": []
   },
   "outputs": [
    {
     "data": {
      "text/html": [
       "\n",
       "        <iframe\n",
       "            width=\"800\"\n",
       "            height=\"600\"\n",
       "            src=\"./assets/Aufgabe_Influenz.html\"\n",
       "            frameborder=\"0\"\n",
       "            allowfullscreen\n",
       "            \n",
       "        ></iframe>\n",
       "        "
      ],
      "text/plain": [
       "<IPython.lib.display.IFrame at 0x7fddf8a26e90>"
      ]
     },
     "execution_count": 23,
     "metadata": {},
     "output_type": "execute_result"
    }
   ],
   "source": [
    "from IPython.display import IFrame\n",
    "\n",
    "IFrame(\"./assets/Aufgabe_Influenz.html\", width=800, height=600)"
   ]
  },
  {
   "cell_type": "raw",
   "id": "f180fbb2-37c8-4aa8-9ffe-ef82bca95adb",
   "metadata": {},
   "source": [
    "Deine Antwort hier eintippen... "
   ]
  },
  {
   "cell_type": "markdown",
   "id": "015cfcb0-50ce-407f-8dc7-9fe9b88c18ee",
   "metadata": {},
   "source": [
    "#### Quiz zum Elektroskop"
   ]
  },
  {
   "cell_type": "code",
   "execution_count": 2,
   "id": "98e305f9-eb18-42cd-b631-22d410218fb6",
   "metadata": {
    "jupyter": {
     "source_hidden": true
    },
    "tags": []
   },
   "outputs": [
    {
     "data": {
      "text/html": [
       "\n",
       "        <iframe\n",
       "            width=\"800\"\n",
       "            height=\"800\"\n",
       "            src=\"./assets/Elektroskop_Quiz.html\"\n",
       "            frameborder=\"0\"\n",
       "            allowfullscreen\n",
       "            \n",
       "        ></iframe>\n",
       "        "
      ],
      "text/plain": [
       "<IPython.lib.display.IFrame at 0x7feed8250dd0>"
      ]
     },
     "execution_count": 2,
     "metadata": {},
     "output_type": "execute_result"
    }
   ],
   "source": [
    "\n",
    "from IPython.display import IFrame\n",
    "\n",
    "IFrame(\"./assets/Elektroskop_Quiz.html\", width=800, height=800)"
   ]
  },
  {
   "cell_type": "markdown",
   "id": "f6c6ca13-1d56-4f97-a34e-41c828adf1c7",
   "metadata": {},
   "source": [
    "## Der elektrische Strom"
   ]
  },
  {
   "cell_type": "markdown",
   "id": "2eaf32d1-ac85-43af-a623-6f21f4bb573f",
   "metadata": {},
   "source": [
    "Als elektrischer Strom wird die gerichtete Bewegung von elektrischen Ladungen durch einen Festkörper, eine Flüssigkeit oder ein Gas bezeichnet. Die Größe des elektrischen Stromes wird mit der elektrischen Stromstärke $I$ angegeben. Die elektrische Stromstärke gibt an, wie viel Ladung pro Sekunde durch einen Querschnitt fließt.\n",
    "\n",
    "```{figure} ./assets/ElectricCurrent-crop.gif\n",
    ":label: k1im5\n",
    ":alt: Animation Strom\n",
    ":width: 500px\n",
    ":align: left\n",
    "\n",
    "Die Stromstärke gibt an, wie viel Ladung $Q$ insgesamt (Anzahl Elektronen) pro Zeit $t$ durch eine Fläche $A$ laufen. \n",
    "```\n",
    "\n"
   ]
  },
  {
   "cell_type": "markdown",
   "id": "6ba45ea6-a6fc-4251-b158-4f772cf98818",
   "metadata": {},
   "source": [
    "Definition der elektrischen Stromstärke:\n",
    "$$ \\label{current-definition} I = \\frac{\\Delta Q}{\\Delta t} $$\n",
    "\n",
    "In dieser Formel bedeuten:\n",
    "\n",
    "- [$I$](#current-definition), die elektrische Stromstärke (in [$\\text{A}$](#Einheit-Stromstaerke))\n",
    "- $\\Delta $[$Q$](#Q-ist-Ladung), die Ladungsmenge, die durch den Querschnitt $A$ fließt (in [$\\text{C}$](#Einheit-Ladung))\n",
    "- $\\Delta t$, die gemessene Zeit (in $\\text{s}$)\n",
    "\n",
    "\n",
    "(Einheit-Stromstaerke)=\n",
    "Die Einheit der elektrischen Stromstärke **Ampere** = [Coulomb](#Einheit-Ladung) / Sekunde wurde zu Ehren von [André-Marie Ampère](wiki:Andr%C3%A9-Marie_Amp%C3%A8re) benannt. Es gilt:\n",
    "[\\[](#Eckige-Klammern)$I$[\\]](#Eckige-Klammern)\n",
    "$\n",
    "={\\frac {[\\Delta Q]}{[\\Delta t]}}\n",
    "={\\frac {1\\;\\mathrm{C}}{1\\;\\mathrm{s}}}\n",
    "=1\\;\\mathrm{A}$\n",
    "\n",
    "\n",
    "Da Elektronen aber eine sehr kleine Ladung besitzen ([Elementarladung](#e-charge)), bewegen sich bei einem Strom von $1$[$\\text{A}$](#Einheit-Stromstaerke) unglaubliche 6 Trillionen Elektronen pro Sekunde durch den Leiterquerschnitt!\n",
    "\n",
    "Dabei bewegen sich die Elektronen nur sehr langsam – einige Millimeter pro Sekunde. Trotz der langsamen Geschwindigkeit der Elektronen können Signale mit fast Lichtgeschwindigkeit durch elektrischen Strom übertragen werden. Wenn du den Lichtschalter einschaltest, müssen die Elektronen nicht erst vom Lichtschalter zur Lampe gelangen. Nach dem Einschalten setzen sich alle Leitungselektronen nahezu gleichzeitig in Bewegung. Daher wird es fast unmittelbar hell."
   ]
  },
  {
   "cell_type": "code",
   "execution_count": null,
   "id": "9107126b-896f-474a-90ef-c63ec316386b",
   "metadata": {},
   "outputs": [],
   "source": []
  }
 ],
 "metadata": {
  "@deathbeds/ipydrawio": {
   "xml": ""
  },
  "kernelspec": {
   "display_name": "Python 3 (ipykernel)",
   "language": "python",
   "name": "python3"
  },
  "language_info": {
   "codemirror_mode": {
    "name": "ipython",
    "version": 3
   },
   "file_extension": ".py",
   "mimetype": "text/x-python",
   "name": "python",
   "nbconvert_exporter": "python",
   "pygments_lexer": "ipython3",
   "version": "3.11.6"
  },
  "widgets": {
   "application/vnd.jupyter.widget-state+json": {
    "state": {},
    "version_major": 2,
    "version_minor": 0
   }
  }
 },
 "nbformat": 4,
 "nbformat_minor": 5
}

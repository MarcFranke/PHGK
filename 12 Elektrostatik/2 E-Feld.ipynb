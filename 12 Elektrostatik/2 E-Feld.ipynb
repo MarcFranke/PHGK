{
 "cells": [
  {
   "cell_type": "markdown",
   "id": "4f429d58-370f-4d56-b796-7de79180edf2",
   "metadata": {
    "tags": []
   },
   "source": [
    "# Kapitel 2: Das elektische Feld"
   ]
  },
  {
   "cell_type": "markdown",
   "id": "5d2d5319-7a95-483d-91d0-3309e95644c8",
   "metadata": {},
   "source": [
    "<table>\n",
    "  <tr>\n",
    "    <td>\n",
    "      <img src=\"https://upload.wikimedia.org/wikipedia/commons/1/1e/VFPt_plus_thumb_potential%2Bcontour.svg\" alt=\"Lorem ipsum\" title=\"Lorem ipsum\">\n",
    "    </td>\n",
    "    <td>\n",
    "      <img src=\"https://upload.wikimedia.org/wikipedia/commons/7/7a/VFPt_minus_thumb_potential%2Bcontour.svg\" alt=\"Dolor sit\" title=\"Dolor sit\">\n",
    "    </td>\n",
    "\n",
    "  </tr>\n",
    "\n",
    "\n",
    "</table>"
   ]
  },
  {
   "cell_type": "code",
   "execution_count": 52,
   "id": "a57fbe21-4dde-4d9e-b35c-bf4c961055c9",
   "metadata": {
    "jupyter": {
     "source_hidden": true
    }
   },
   "outputs": [
    {
     "data": {
      "text/html": [
       "\n",
       "        <iframe\n",
       "            width=\"900\"\n",
       "            height=\"600\"\n",
       "            src=\"./assets/Kraft_zwischen_elektrischen_Ladungen.html\"\n",
       "            frameborder=\"0\"\n",
       "            allowfullscreen\n",
       "            \n",
       "        ></iframe>\n",
       "        "
      ],
      "text/plain": [
       "<IPython.lib.display.IFrame at 0x7efe3bc32d50>"
      ]
     },
     "execution_count": 52,
     "metadata": {},
     "output_type": "execute_result"
    }
   ],
   "source": [
    "\n",
    "from IPython.display import IFrame\n",
    "\n",
    "IFrame(\"./assets/Kraft_zwischen_elektrischen_Ladungen.html\", width=900, height=600)"
   ]
  },
  {
   "cell_type": "code",
   "execution_count": 51,
   "id": "3f72ca8c-4290-41c7-9e3c-1a13dbbb93c9",
   "metadata": {
    "jupyter": {
     "source_hidden": true
    }
   },
   "outputs": [
    {
     "data": {
      "text/html": [
       "\n",
       "        <iframe\n",
       "            width=\"1000\"\n",
       "            height=\"700\"\n",
       "            src=\"./assets/Electric_Force_Sim.html\"\n",
       "            frameborder=\"0\"\n",
       "            allowfullscreen\n",
       "            \n",
       "        ></iframe>\n",
       "        "
      ],
      "text/plain": [
       "<IPython.lib.display.IFrame at 0x7efe3beb2350>"
      ]
     },
     "execution_count": 51,
     "metadata": {},
     "output_type": "execute_result"
    }
   ],
   "source": [
    "\n",
    "from IPython.display import IFrame\n",
    "\n",
    "IFrame(\"./assets/Electric_Force_Sim.html\", width=1000, height=700)"
   ]
  },
  {
   "cell_type": "code",
   "execution_count": 74,
   "id": "b3079d21-13c1-4645-acb9-e4a61307b742",
   "metadata": {
    "jupyter": {
     "source_hidden": true
    },
    "tags": []
   },
   "outputs": [
    {
     "data": {
      "text/html": [
       "\n",
       "        <iframe\n",
       "            width=\"1000\"\n",
       "            height=\"700\"\n",
       "            src=\"./assets/Field_Lines_Sim.html\"\n",
       "            frameborder=\"0\"\n",
       "            allowfullscreen\n",
       "            \n",
       "        ></iframe>\n",
       "        "
      ],
      "text/plain": [
       "<IPython.lib.display.IFrame at 0x7efe3be190d0>"
      ]
     },
     "execution_count": 74,
     "metadata": {},
     "output_type": "execute_result"
    }
   ],
   "source": [
    "\n",
    "from IPython.display import IFrame\n",
    "\n",
    "IFrame(\"./assets/Field_Lines_Sim.html\", width=1000, height=700)"
   ]
  },
  {
   "cell_type": "code",
   "execution_count": null,
   "id": "18cdffcd-8e6f-40af-b247-bce128bbf12e",
   "metadata": {},
   "outputs": [],
   "source": []
  }
 ],
 "metadata": {
  "kernelspec": {
   "display_name": "Python 3 (ipykernel)",
   "language": "python",
   "name": "python3"
  },
  "language_info": {
   "codemirror_mode": {
    "name": "ipython",
    "version": 3
   },
   "file_extension": ".py",
   "mimetype": "text/x-python",
   "name": "python",
   "nbconvert_exporter": "python",
   "pygments_lexer": "ipython3",
   "version": "3.11.6"
  },
  "widgets": {
   "application/vnd.jupyter.widget-state+json": {
    "state": {
     "19f30ec6763746d8b3e4c29daf5170ff": {
      "model_module": "@jupyter-widgets/base",
      "model_module_version": "2.0.0",
      "model_name": "LayoutModel",
      "state": {}
     },
     "273b161346514437afa61aea6a3fc53a": {
      "model_module": "@jupyter-widgets/controls",
      "model_module_version": "2.0.0",
      "model_name": "SliderStyleModel",
      "state": {
       "description_width": ""
      }
     },
     "4ffd991d326744fe95152a9f96c9749c": {
      "model_module": "@jupyter-widgets/controls",
      "model_module_version": "2.0.0",
      "model_name": "IntSliderModel",
      "state": {
       "behavior": "drag-tap",
       "description": "q2 (Exponent)",
       "layout": "IPY_MODEL_923d25e2c94b488bb67f476c2bc0970f",
       "max": -3,
       "min": -9,
       "style": "IPY_MODEL_89a371c453034d8c88bfb23a41b8eb31",
       "value": -3
      }
     },
     "6aa4ea5a678a408ab0dae83ea7d82a9c": {
      "model_module": "@jupyter-widgets/controls",
      "model_module_version": "2.0.0",
      "model_name": "SliderStyleModel",
      "state": {
       "description_width": ""
      }
     },
     "7e333b3e769d43b9a162dea75ce35810": {
      "model_module": "@jupyter-widgets/controls",
      "model_module_version": "2.0.0",
      "model_name": "VBoxModel",
      "state": {
       "_dom_classes": [
        "widget-interact"
       ],
       "children": [
        "IPY_MODEL_d3e89d5b28eb4e269f756ba2f9df27e2",
        "IPY_MODEL_4ffd991d326744fe95152a9f96c9749c",
        "IPY_MODEL_c19dbfb3e93e4134a9aae8370a0e1cd3",
        "IPY_MODEL_c50fbf5a1e814a89870189c6f3f92ecc"
       ],
       "layout": "IPY_MODEL_19f30ec6763746d8b3e4c29daf5170ff"
      }
     },
     "89a371c453034d8c88bfb23a41b8eb31": {
      "model_module": "@jupyter-widgets/controls",
      "model_module_version": "2.0.0",
      "model_name": "SliderStyleModel",
      "state": {
       "description_width": ""
      }
     },
     "923d25e2c94b488bb67f476c2bc0970f": {
      "model_module": "@jupyter-widgets/base",
      "model_module_version": "2.0.0",
      "model_name": "LayoutModel",
      "state": {}
     },
     "c19dbfb3e93e4134a9aae8370a0e1cd3": {
      "model_module": "@jupyter-widgets/controls",
      "model_module_version": "2.0.0",
      "model_name": "FloatSliderModel",
      "state": {
       "behavior": "drag-tap",
       "description": "Abstand r (m)",
       "layout": "IPY_MODEL_d1d204d215814600b8bad22908077db6",
       "max": 2,
       "min": 0.1,
       "step": 0.01,
       "style": "IPY_MODEL_6aa4ea5a678a408ab0dae83ea7d82a9c",
       "value": 0.8199999999999998
      }
     },
     "c50fbf5a1e814a89870189c6f3f92ecc": {
      "model_module": "@jupyter-widgets/output",
      "model_module_version": "1.0.0",
      "model_name": "OutputModel",
      "state": {
       "layout": "IPY_MODEL_e595d66bc04c471caee05257d3ce47dc",
       "outputs": [
        {
         "data": {
          "image/png": "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",
          "text/plain": "<Figure size 1000x500 with 1 Axes>"
         },
         "metadata": {},
         "output_type": "display_data"
        }
       ]
      }
     },
     "d1d204d215814600b8bad22908077db6": {
      "model_module": "@jupyter-widgets/base",
      "model_module_version": "2.0.0",
      "model_name": "LayoutModel",
      "state": {}
     },
     "d3e89d5b28eb4e269f756ba2f9df27e2": {
      "model_module": "@jupyter-widgets/controls",
      "model_module_version": "2.0.0",
      "model_name": "IntSliderModel",
      "state": {
       "behavior": "drag-tap",
       "description": "q1 (Exponent)",
       "layout": "IPY_MODEL_ff09ab815764429c9c52389c1c7fed2d",
       "max": -3,
       "min": -9,
       "style": "IPY_MODEL_273b161346514437afa61aea6a3fc53a",
       "value": -6
      }
     },
     "e595d66bc04c471caee05257d3ce47dc": {
      "model_module": "@jupyter-widgets/base",
      "model_module_version": "2.0.0",
      "model_name": "LayoutModel",
      "state": {}
     },
     "ff09ab815764429c9c52389c1c7fed2d": {
      "model_module": "@jupyter-widgets/base",
      "model_module_version": "2.0.0",
      "model_name": "LayoutModel",
      "state": {}
     }
    },
    "version_major": 2,
    "version_minor": 0
   }
  }
 },
 "nbformat": 4,
 "nbformat_minor": 5
}
